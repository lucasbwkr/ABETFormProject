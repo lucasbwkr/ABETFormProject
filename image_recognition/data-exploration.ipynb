{
 "cells": [
  {
   "cell_type": "code",
   "execution_count": 2,
   "metadata": {},
   "outputs": [],
   "source": [
    "import numpy as np\n",
    "import os\n",
    "from PIL import Image\n",
    "import re\n",
    "from load_data import *\n",
    "from networks import *\n",
    "import matplotlib.pyplot as plt"
   ]
  },
  {
   "cell_type": "code",
   "execution_count": 3,
   "metadata": {},
   "outputs": [],
   "source": [
    "FONTSIZE = 18\n",
    "FIGURE_SIZE = (10,4)\n",
    "FIGURE_SIZE2 = (10,10)\n",
    "\n",
    "plt.rcParams.update({'font.size': FONTSIZE})\n",
    "plt.rcParams['figure.figsize'] = FIGURE_SIZE2\n",
    "# Default tick label size\n",
    "plt.rcParams['xtick.labelsize'] = FONTSIZE\n",
    "plt.rcParams['ytick.labelsize'] = FONTSIZE"
   ]
  },
  {
   "cell_type": "code",
   "execution_count": 4,
   "metadata": {},
   "outputs": [
    {
     "name": "stdout",
     "output_type": "stream",
     "text": [
      "(15815, 160, 300, 1)\n",
      "(19895, 160, 300, 1)\n"
     ]
    }
   ],
   "source": [
    "ins_train, outs_train, ins_val, outs_val = get_data('../forms/ABET_SCANS_Result', .90, .10)"
   ]
  },
  {
   "cell_type": "code",
   "execution_count": 3,
   "metadata": {
    "scrolled": true
   },
   "outputs": [
    {
     "name": "stdout",
     "output_type": "stream",
     "text": [
      "(35710, 160, 300, 1)\n",
      "(35710, 2)\n"
     ]
    }
   ],
   "source": [
    "print(ins_train.shape)\n",
    "print(outs_train.shape)"
   ]
  },
  {
   "cell_type": "code",
   "execution_count": 22,
   "metadata": {},
   "outputs": [
    {
     "data": {
      "text/plain": [
       "array([15815., 19895.])"
      ]
     },
     "execution_count": 22,
     "metadata": {},
     "output_type": "execute_result"
    }
   ],
   "source": [
    "np.sum(outs_train, axis=0)"
   ]
  },
  {
   "cell_type": "code",
   "execution_count": 161,
   "metadata": {},
   "outputs": [],
   "source": [
    "n_filters = [5,5,5]\n",
    "convolutions = [3,3,5]\n",
    "pooling = [2,4, 4]\n",
    "dense = [200,10]"
   ]
  },
  {
   "cell_type": "code",
   "execution_count": 162,
   "metadata": {},
   "outputs": [
    {
     "name": "stdout",
     "output_type": "stream",
     "text": [
      "Model: \"sequential_8\"\n",
      "_________________________________________________________________\n",
      "Layer (type)                 Output Shape              Param #   \n",
      "=================================================================\n",
      "C0 (Conv2D)                  (None, 158, 298, 5)       50        \n",
      "_________________________________________________________________\n",
      "max_pooling2d_17 (MaxPooling (None, 79, 149, 5)        0         \n",
      "_________________________________________________________________\n",
      "C1 (Conv2D)                  (None, 77, 147, 5)        230       \n",
      "_________________________________________________________________\n",
      "max_pooling2d_18 (MaxPooling (None, 19, 36, 5)         0         \n",
      "_________________________________________________________________\n",
      "C2 (Conv2D)                  (None, 15, 32, 5)         630       \n",
      "_________________________________________________________________\n",
      "max_pooling2d_19 (MaxPooling (None, 3, 8, 5)           0         \n",
      "_________________________________________________________________\n",
      "flatten_8 (Flatten)          (None, 120)               0         \n",
      "_________________________________________________________________\n",
      "D0 (Dense)                   (None, 200)               24200     \n",
      "_________________________________________________________________\n",
      "dropout_9 (Dropout)          (None, 200)               0         \n",
      "_________________________________________________________________\n",
      "D1 (Dense)                   (None, 10)                2010      \n",
      "_________________________________________________________________\n",
      "dropout_10 (Dropout)         (None, 10)                0         \n",
      "_________________________________________________________________\n",
      "output (Dense)               (None, 2)                 22        \n",
      "=================================================================\n",
      "Total params: 27,142\n",
      "Trainable params: 27,142\n",
      "Non-trainable params: 0\n",
      "_________________________________________________________________\n",
      "None\n"
     ]
    }
   ],
   "source": [
    "model = create_classifier_network((ins_train.shape[1],ins_train.shape[2]),\n",
    "                                  1,\n",
    "                                  zip(n_filters,convolutions),\n",
    "                                  pooling,\n",
    "                                  dense,\n",
    "                                  lrate=.001,\n",
    "                                  p_dropout=.10,\n",
    "                                  lambda_l2=.0001)"
   ]
  },
  {
   "cell_type": "code",
   "execution_count": 163,
   "metadata": {},
   "outputs": [],
   "source": [
    "generator = training_set_generator_images(ins_train, outs_train, batch_size=150)"
   ]
  },
  {
   "cell_type": "code",
   "execution_count": 164,
   "metadata": {},
   "outputs": [
    {
     "data": {
      "text/plain": [
       "(35710, 2)"
      ]
     },
     "execution_count": 164,
     "metadata": {},
     "output_type": "execute_result"
    }
   ],
   "source": [
    "outs_train.shape"
   ]
  },
  {
   "cell_type": "code",
   "execution_count": 167,
   "metadata": {
    "scrolled": true
   },
   "outputs": [
    {
     "name": "stdout",
     "output_type": "stream",
     "text": [
      "Epoch 1/50\n",
      "2/2 [==============================] - 19s 10s/step - loss: 0.1441 - accuracy: 0.9600\n",
      "Epoch 2/50\n",
      "2/2 [==============================] - 19s 10s/step - loss: 0.0786 - accuracy: 0.9867\n",
      "Epoch 3/50\n",
      "2/2 [==============================] - 22s 11s/step - loss: 0.1534 - accuracy: 0.9500\n",
      "Epoch 4/50\n",
      "2/2 [==============================] - 39s 19s/step - loss: 0.1346 - accuracy: 0.9467\n",
      "Epoch 5/50\n",
      "2/2 [==============================] - 23s 11s/step - loss: 0.1111 - accuracy: 0.9667\n",
      "Epoch 6/50\n",
      "2/2 [==============================] - 21s 10s/step - loss: 0.0889 - accuracy: 0.9700\n",
      "Epoch 7/50\n",
      "2/2 [==============================] - 23s 11s/step - loss: 0.1690 - accuracy: 0.9467\n",
      "Epoch 8/50\n",
      "2/2 [==============================] - 18s 9s/step - loss: 0.1004 - accuracy: 0.9700\n",
      "Epoch 9/50\n",
      "2/2 [==============================] - 18s 9s/step - loss: 0.1147 - accuracy: 0.9800\n",
      "Epoch 10/50\n",
      "2/2 [==============================] - 19s 9s/step - loss: 0.0565 - accuracy: 0.9933\n",
      "Epoch 11/50\n",
      "2/2 [==============================] - 16s 8s/step - loss: 0.1148 - accuracy: 0.9633\n",
      "Epoch 12/50\n",
      "2/2 [==============================] - 18s 9s/step - loss: 0.0638 - accuracy: 0.9800\n",
      "Epoch 13/50\n",
      "2/2 [==============================] - 18s 9s/step - loss: 0.0721 - accuracy: 0.9800\n",
      "Epoch 14/50\n",
      "2/2 [==============================] - 16s 8s/step - loss: 0.0689 - accuracy: 0.9867\n",
      "Epoch 15/50\n",
      "2/2 [==============================] - 16s 8s/step - loss: 0.0669 - accuracy: 0.9833\n",
      "Epoch 16/50\n",
      "2/2 [==============================] - 16s 8s/step - loss: 0.0602 - accuracy: 0.9767\n",
      "Epoch 17/50\n",
      "2/2 [==============================] - 16s 8s/step - loss: 0.0709 - accuracy: 0.9833\n",
      "Epoch 18/50\n",
      "2/2 [==============================] - 17s 8s/step - loss: 0.0737 - accuracy: 0.9633\n",
      "Epoch 19/50\n",
      "2/2 [==============================] - 17s 8s/step - loss: 0.0897 - accuracy: 0.9667\n",
      "Epoch 20/50\n",
      "2/2 [==============================] - 17s 8s/step - loss: 0.0541 - accuracy: 0.9867\n",
      "Epoch 21/50\n",
      "2/2 [==============================] - 16s 8s/step - loss: 0.0743 - accuracy: 0.9733\n",
      "Epoch 22/50\n",
      "2/2 [==============================] - 16s 8s/step - loss: 0.0585 - accuracy: 0.9833\n",
      "Epoch 23/50\n",
      "2/2 [==============================] - 16s 8s/step - loss: 0.0473 - accuracy: 0.9933\n",
      "Epoch 24/50\n",
      "2/2 [==============================] - 18s 9s/step - loss: 0.0498 - accuracy: 0.9867\n",
      "Epoch 25/50\n",
      "2/2 [==============================] - 19s 9s/step - loss: 0.0482 - accuracy: 0.9867\n",
      "Epoch 26/50\n",
      "2/2 [==============================] - 19s 9s/step - loss: 0.0390 - accuracy: 0.9900\n",
      "Epoch 27/50\n",
      "2/2 [==============================] - 21s 10s/step - loss: 0.0453 - accuracy: 0.9933\n",
      "Epoch 28/50\n",
      "2/2 [==============================] - 18s 9s/step - loss: 0.0405 - accuracy: 0.9933\n",
      "Epoch 29/50\n",
      "2/2 [==============================] - 17s 9s/step - loss: 0.0302 - accuracy: 0.9967\n",
      "Epoch 30/50\n",
      "2/2 [==============================] - 18s 9s/step - loss: 0.0474 - accuracy: 0.9867\n",
      "Epoch 31/50\n",
      "2/2 [==============================] - 17s 8s/step - loss: 0.0554 - accuracy: 0.9867\n",
      "Epoch 32/50\n",
      "2/2 [==============================] - 20s 10s/step - loss: 0.0306 - accuracy: 0.9900\n",
      "Epoch 33/50\n",
      "2/2 [==============================] - 16s 8s/step - loss: 0.0419 - accuracy: 0.9867\n",
      "Epoch 34/50\n",
      "2/2 [==============================] - 16s 8s/step - loss: 0.0461 - accuracy: 0.9933\n",
      "Epoch 35/50\n",
      "2/2 [==============================] - 16s 8s/step - loss: 0.0331 - accuracy: 0.9933\n",
      "Epoch 36/50\n",
      "2/2 [==============================] - 16s 8s/step - loss: 0.0520 - accuracy: 0.9867\n",
      "Epoch 37/50\n",
      "2/2 [==============================] - 16s 8s/step - loss: 0.0318 - accuracy: 0.9967\n",
      "Epoch 38/50\n",
      "2/2 [==============================] - 16s 8s/step - loss: 0.0411 - accuracy: 0.9900\n",
      "Epoch 39/50\n",
      "2/2 [==============================] - 16s 8s/step - loss: 0.0426 - accuracy: 0.9967\n",
      "Epoch 40/50\n",
      "2/2 [==============================] - 16s 8s/step - loss: 0.0478 - accuracy: 0.9900\n",
      "Epoch 41/50\n",
      "2/2 [==============================] - 18s 9s/step - loss: 0.0736 - accuracy: 0.9833\n",
      "Epoch 42/50\n",
      "2/2 [==============================] - 18s 9s/step - loss: 0.0324 - accuracy: 0.9900\n",
      "Epoch 43/50\n",
      "2/2 [==============================] - 16s 8s/step - loss: 0.0399 - accuracy: 0.9933\n",
      "Epoch 44/50\n",
      "2/2 [==============================] - 16s 8s/step - loss: 0.0180 - accuracy: 1.0000\n",
      "Epoch 45/50\n",
      "2/2 [==============================] - 16s 8s/step - loss: 0.0750 - accuracy: 0.9800\n",
      "Epoch 46/50\n",
      "2/2 [==============================] - 16s 8s/step - loss: 0.0329 - accuracy: 0.9967\n",
      "Epoch 47/50\n",
      "2/2 [==============================] - 16s 8s/step - loss: 0.0413 - accuracy: 0.9933\n",
      "Epoch 48/50\n",
      "2/2 [==============================] - 16s 8s/step - loss: 0.0170 - accuracy: 0.9967\n",
      "Epoch 49/50\n",
      "2/2 [==============================] - 20s 10s/step - loss: 0.0427 - accuracy: 0.9867\n",
      "Epoch 50/50\n",
      "2/2 [==============================] - 18s 9s/step - loss: 0.0498 - accuracy: 0.9800\n"
     ]
    }
   ],
   "source": [
    "history = model.fit_generator(generator, epochs=50, steps_per_epoch=2)"
   ]
  },
  {
   "cell_type": "code",
   "execution_count": 168,
   "metadata": {
    "scrolled": true
   },
   "outputs": [
    {
     "data": {
      "text/plain": [
       "array([[1.00000000e+00, 3.63670205e-10],\n",
       "       [9.90599930e-01, 9.40004177e-03],\n",
       "       [9.51104641e-01, 4.88953814e-02],\n",
       "       [9.99999881e-01, 8.73870860e-08],\n",
       "       [9.99999523e-01, 5.07406128e-07],\n",
       "       [8.00284892e-02, 9.19971466e-01],\n",
       "       [2.35458873e-02, 9.76454139e-01],\n",
       "       [9.99807894e-01, 1.92073960e-04],\n",
       "       [9.99935746e-01, 6.42084924e-05],\n",
       "       [3.21668148e-01, 6.78331852e-01],\n",
       "       [9.99998450e-01, 1.53457756e-06],\n",
       "       [9.97017503e-01, 2.98250420e-03],\n",
       "       [9.99760807e-01, 2.39154295e-04],\n",
       "       [9.09525812e-01, 9.04741809e-02],\n",
       "       [9.99948025e-01, 5.19302121e-05],\n",
       "       [9.99999762e-01, 2.21249067e-07],\n",
       "       [9.81496930e-01, 1.85031015e-02],\n",
       "       [9.99441922e-01, 5.58038475e-04],\n",
       "       [1.00000000e+00, 1.29891289e-08],\n",
       "       [1.00000000e+00, 1.13066646e-10],\n",
       "       [9.98558342e-01, 1.44168967e-03],\n",
       "       [9.98394191e-01, 1.60573854e-03],\n",
       "       [8.12040493e-02, 9.18796003e-01],\n",
       "       [6.30239666e-01, 3.69760305e-01],\n",
       "       [1.00000000e+00, 6.09431616e-10],\n",
       "       [9.99983668e-01, 1.63884233e-05],\n",
       "       [9.98578787e-01, 1.42127392e-03],\n",
       "       [9.99564469e-01, 4.35472728e-04],\n",
       "       [9.98306394e-01, 1.69361592e-03],\n",
       "       [9.99997735e-01, 2.25202280e-06]], dtype=float32)"
      ]
     },
     "execution_count": 168,
     "metadata": {},
     "output_type": "execute_result"
    }
   ],
   "source": [
    "model.predict(ins_val[100:130])"
   ]
  },
  {
   "cell_type": "code",
   "execution_count": 169,
   "metadata": {
    "scrolled": true
   },
   "outputs": [
    {
     "data": {
      "text/plain": [
       "array([[1., 0.],\n",
       "       [1., 0.],\n",
       "       [1., 0.],\n",
       "       [1., 0.],\n",
       "       [1., 0.],\n",
       "       [1., 0.],\n",
       "       [1., 0.],\n",
       "       [1., 0.],\n",
       "       [1., 0.],\n",
       "       [1., 0.],\n",
       "       [1., 0.],\n",
       "       [1., 0.],\n",
       "       [1., 0.],\n",
       "       [1., 0.],\n",
       "       [1., 0.],\n",
       "       [1., 0.],\n",
       "       [1., 0.],\n",
       "       [1., 0.],\n",
       "       [1., 0.],\n",
       "       [1., 0.],\n",
       "       [1., 0.],\n",
       "       [1., 0.],\n",
       "       [1., 0.],\n",
       "       [1., 0.],\n",
       "       [1., 0.],\n",
       "       [1., 0.],\n",
       "       [1., 0.],\n",
       "       [1., 0.],\n",
       "       [1., 0.],\n",
       "       [1., 0.]])"
      ]
     },
     "execution_count": 169,
     "metadata": {},
     "output_type": "execute_result"
    }
   ],
   "source": [
    "outs_val[100:130]"
   ]
  },
  {
   "cell_type": "code",
   "execution_count": 170,
   "metadata": {},
   "outputs": [],
   "source": [
    "# save model\n",
    "model.save('model.h5')"
   ]
  },
  {
   "cell_type": "code",
   "execution_count": 10,
   "metadata": {},
   "outputs": [
    {
     "data": {
      "text/plain": [
       "array([[9.98200059e-01, 1.79988111e-03],\n",
       "       [9.92869914e-01, 7.13008828e-03],\n",
       "       [9.36875939e-01, 6.31240234e-02],\n",
       "       [9.99945164e-01, 5.48350145e-05],\n",
       "       [9.99597609e-01, 4.02382953e-04],\n",
       "       [1.00000000e+00, 4.44479875e-09],\n",
       "       [9.89652693e-01, 1.03472611e-02],\n",
       "       [1.89882129e-01, 8.10117960e-01],\n",
       "       [9.99989510e-01, 1.05030049e-05],\n",
       "       [9.98676717e-01, 1.32326817e-03],\n",
       "       [9.35959816e-01, 6.40401542e-02],\n",
       "       [9.99990225e-01, 9.78355638e-06],\n",
       "       [1.00000000e+00, 1.04812665e-08],\n",
       "       [1.00000000e+00, 3.60477266e-08],\n",
       "       [1.00000000e+00, 1.00616040e-08],\n",
       "       [1.00000000e+00, 1.29306681e-08],\n",
       "       [9.99995828e-01, 4.22374342e-06],\n",
       "       [6.54259086e-01, 3.45740914e-01],\n",
       "       [2.49098167e-01, 7.50901878e-01],\n",
       "       [9.99999881e-01, 9.15936340e-08],\n",
       "       [9.99994516e-01, 5.48053322e-06],\n",
       "       [9.55389798e-01, 4.46101949e-02],\n",
       "       [9.99983311e-01, 1.66860427e-05],\n",
       "       [9.99993682e-01, 6.35990727e-06],\n",
       "       [9.99799788e-01, 2.00250273e-04],\n",
       "       [9.99579728e-01, 4.20231867e-04],\n",
       "       [9.99785244e-01, 2.14808228e-04],\n",
       "       [9.99999642e-01, 3.80114471e-07],\n",
       "       [9.95152473e-01, 4.84750606e-03],\n",
       "       [9.99991179e-01, 8.77348702e-06]], dtype=float32)"
      ]
     },
     "execution_count": 10,
     "metadata": {},
     "output_type": "execute_result"
    }
   ],
   "source": [
    "model = keras.models.load_model('model.h5')\n",
    "model.predict(ins_val[100:130])"
   ]
  },
  {
   "cell_type": "markdown",
   "metadata": {},
   "source": [
    "## Visualize Model Internals"
   ]
  },
  {
   "cell_type": "code",
   "execution_count": 7,
   "metadata": {},
   "outputs": [],
   "source": [
    "def intermediate_model_state(model, ins, layer_list):\n",
    "    '''\n",
    "    Return layer activations for intermediate layers in a model for a set of examples\n",
    "    \n",
    "    :param model: Model in question\n",
    "    :param ins: Input tensor (examples, rows, cols, channels)\n",
    "    :param layer_list: List of layer names to produce activations for\n",
    "    :returns: a list of numpy arrays\n",
    "    '''\n",
    "    # Translate layer names into corresponding output tensors\n",
    "    layer_outputs = [l.output for l in model.layers if l.name in layer_list]\n",
    "    \n",
    "    # Construct a new Keras model that outputs these tensors\n",
    "    # The internal structure of the model itself is referenced through the input and output tensor lists\n",
    "    new_model = keras.models.Model(inputs=model.input, outputs=layer_outputs)\n",
    "    \n",
    "    # Evaluate the new model\n",
    "    activations = new_model.predict(ins_train[1000:1030])\n",
    "    \n",
    "    # Return a list of activation numpy arrays\n",
    "    return activations\n",
    "\n",
    "def visualize_state(activations, width=1, example=0, cmap='plasma'):\n",
    "    '''\n",
    "    Produce graphical representation of a set of image channels\n",
    "    \n",
    "    :param activations: numpy array (example, rows, cols, channels)\n",
    "    :param width: Number of images displayed horizontally\n",
    "    :param example: Index of example to display\n",
    "    :param cmap: Color map to use for plotting\n",
    "    '''\n",
    "    # Size of the individual images\n",
    "    nrows = activations.shape[1]\n",
    "    ncols = activations.shape[2]\n",
    "    # Number of channels\n",
    "    nfilters = activations.shape[3]\n",
    "    \n",
    "    # Tile all of the sub-images \n",
    "    grid = np.zeros((int((nfilters-1)/width + 1) * nrows, ncols * width))\n",
    "    \n",
    "    # Loop over image\n",
    "    for i in range(nfilters):\n",
    "        # Compute r,c of tile to place the ith image into\n",
    "        r = int(i / width)\n",
    "        c = i % width\n",
    "        grid[nrows*r: nrows*(r+1), ncols*c:ncols*(c+1)] = activations[example,:,:,i]\n",
    "        \n",
    "    # Plot\n",
    "    plt.matshow(grid, cmap=cmap) "
   ]
  },
  {
   "cell_type": "code",
   "execution_count": 13,
   "metadata": {},
   "outputs": [],
   "source": [
    "# Compute activations for 2 layers over a set of examples\n",
    "layer_list=['C2']\n",
    "activations = intermediate_model_state(model, ins_train, layer_list)"
   ]
  },
  {
   "cell_type": "code",
   "execution_count": 14,
   "metadata": {},
   "outputs": [
    {
     "data": {
      "image/png": "[encoded data removed]",
      "text/plain": [
       "<Figure size 1152x144 with 1 Axes>"
      ]
     },
     "metadata": {
      "needs_background": "light"
     },
     "output_type": "display_data"
    }
   ],
   "source": [
    "# Plot convolutional layers 1 and 2\n",
    "example=2\n",
    "# plt.imshow(ins_train[example,:,:,:])\n",
    "visualize_state(activations, width=5, example=example)\n",
    "#visualize_state(activations[0], width=10, example=example)\n",
    "#visualize_state(activations[1], width=20, example=example)\n",
    "#visualize_state(activations[2], width=20, example=example)\n",
    "#visualize_state(activations[3], width=30, example=example)"
   ]
  },
  {
   "cell_type": "code",
   "execution_count": null,
   "metadata": {},
   "outputs": [],
   "source": []
  }
 ],
 "metadata": {
  "kernelspec": {
   "display_name": "Python 3",
   "language": "python",
   "name": "python3"
  },
  "language_info": {
   "codemirror_mode": {
    "name": "ipython",
    "version": 3
   },
   "file_extension": ".py",
   "mimetype": "text/x-python",
   "name": "python",
   "nbconvert_exporter": "python",
   "pygments_lexer": "ipython3",
   "version": "3.7.6"
  }
 },
 "nbformat": 4,
 "nbformat_minor": 4
}
