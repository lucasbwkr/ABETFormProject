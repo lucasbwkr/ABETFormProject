{
 "cells": [
  {
   "cell_type": "code",
   "execution_count": 1,
   "metadata": {},
   "outputs": [],
   "source": [
    "import numpy as np\n",
    "import os\n",
    "from PIL import Image\n",
    "import re\n",
    "from load_data import *\n",
    "from networks import *"
   ]
  },
  {
   "cell_type": "code",
   "execution_count": 2,
   "metadata": {},
   "outputs": [
    {
     "name": "stdout",
     "output_type": "stream",
     "text": [
      "(15815, 160, 300, 1)\n",
      "(19895, 160, 300, 1)\n"
     ]
    }
   ],
   "source": [
    "ins_train, outs_train, ins_val, outs_val = get_data('../forms/ABET_SCANS_Result', .90, .10)"
   ]
  },
  {
   "cell_type": "code",
   "execution_count": 4,
   "metadata": {
    "scrolled": true
   },
   "outputs": [
    {
     "name": "stdout",
     "output_type": "stream",
     "text": [
      "(35710, 160, 300, 1)\n",
      "(35710, 2)\n"
     ]
    }
   ],
   "source": [
    "print(ins_train.shape)\n",
    "print(outs_train.shape)"
   ]
  },
  {
   "cell_type": "code",
   "execution_count": 15,
   "metadata": {},
   "outputs": [
    {
     "name": "stdout",
     "output_type": "stream",
     "text": [
      "Model: \"sequential_1\"\n",
      "_________________________________________________________________\n",
      "Layer (type)                 Output Shape              Param #   \n",
      "=================================================================\n",
      "C0 (Conv2D)                  (None, 158, 298, 10)      100       \n",
      "_________________________________________________________________\n",
      "max_pooling2d_2 (MaxPooling2 (None, 79, 149, 10)       0         \n",
      "_________________________________________________________________\n",
      "C1 (Conv2D)                  (None, 77, 147, 20)       1820      \n",
      "_________________________________________________________________\n",
      "max_pooling2d_3 (MaxPooling2 (None, 38, 73, 20)        0         \n",
      "_________________________________________________________________\n",
      "flatten_1 (Flatten)          (None, 55480)             0         \n",
      "_________________________________________________________________\n",
      "D0 (Dense)                   (None, 100)               5548100   \n",
      "_________________________________________________________________\n",
      "dropout_2 (Dropout)          (None, 100)               0         \n",
      "_________________________________________________________________\n",
      "D1 (Dense)                   (None, 10)                1010      \n",
      "_________________________________________________________________\n",
      "dropout_3 (Dropout)          (None, 10)                0         \n",
      "_________________________________________________________________\n",
      "output (Dense)               (None, 2)                 22        \n",
      "=================================================================\n",
      "Total params: 5,551,052\n",
      "Trainable params: 5,551,052\n",
      "Non-trainable params: 0\n",
      "_________________________________________________________________\n",
      "None\n"
     ]
    }
   ],
   "source": [
    "model = create_classifier_network((ins_train.shape[1],ins_train.shape[2]),\n",
    "                                  1,\n",
    "                                  [(10,3), (20,3)],\n",
    "                                  [2,2],\n",
    "                                  [100,10],\n",
    "                                  lrate=.001,\n",
    "                                  p_dropout= .30,\n",
    "                                  lambda_l2=.0001)"
   ]
  },
  {
   "cell_type": "code",
   "execution_count": 16,
   "metadata": {},
   "outputs": [],
   "source": [
    "generator = training_set_generator_images(ins_train, outs_train, batch_size=100)"
   ]
  },
  {
   "cell_type": "code",
   "execution_count": 17,
   "metadata": {},
   "outputs": [
    {
     "data": {
      "text/plain": [
       "(35710, 2)"
      ]
     },
     "execution_count": 17,
     "metadata": {},
     "output_type": "execute_result"
    }
   ],
   "source": [
    "outs_train.shape"
   ]
  },
  {
   "cell_type": "code",
   "execution_count": 18,
   "metadata": {},
   "outputs": [
    {
     "name": "stdout",
     "output_type": "stream",
     "text": [
      "Epoch 1/10\n",
      "2/2 [==============================] - 39s 19s/step - loss: 2.8666 - accuracy: 0.5050\n",
      "Epoch 2/10\n",
      "2/2 [==============================] - 31s 15s/step - loss: 1.8112 - accuracy: 0.4900\n",
      "Epoch 3/10\n",
      "2/2 [==============================] - 24s 12s/step - loss: 1.7119 - accuracy: 0.5000\n",
      "Epoch 4/10\n",
      "2/2 [==============================] - 23s 11s/step - loss: 1.7034 - accuracy: 0.4700\n",
      "Epoch 5/10\n",
      "2/2 [==============================] - 24s 12s/step - loss: 1.6612 - accuracy: 0.5650\n",
      "Epoch 6/10\n",
      "2/2 [==============================] - 20s 10s/step - loss: 1.6314 - accuracy: 0.5450\n",
      "Epoch 7/10\n",
      "2/2 [==============================] - 21s 11s/step - loss: 1.6177 - accuracy: 0.5400\n",
      "Epoch 8/10\n",
      "2/2 [==============================] - 21s 10s/step - loss: 1.5836 - accuracy: 0.5350\n",
      "Epoch 9/10\n",
      "2/2 [==============================] - 21s 11s/step - loss: 1.5828 - accuracy: 0.5050\n",
      "Epoch 10/10\n",
      "2/2 [==============================] - 24s 12s/step - loss: 1.5389 - accuracy: 0.5700\n"
     ]
    }
   ],
   "source": [
    "history = model.fit_generator(generator, epochs=10, steps_per_epoch=2)"
   ]
  },
  {
   "cell_type": "code",
   "execution_count": 22,
   "metadata": {},
   "outputs": [
    {
     "data": {
      "text/plain": [
       "array([[0.43870214, 0.56129783],\n",
       "       [0.43870214, 0.56129783],\n",
       "       [0.43870214, 0.56129783],\n",
       "       [0.43870214, 0.56129783],\n",
       "       [0.43870214, 0.56129783],\n",
       "       [0.43870214, 0.56129783],\n",
       "       [0.43870214, 0.56129783],\n",
       "       [0.43870214, 0.56129783],\n",
       "       [0.43870214, 0.56129783],\n",
       "       [0.43870214, 0.56129783],\n",
       "       [0.43870214, 0.56129783],\n",
       "       [0.43870214, 0.56129783],\n",
       "       [0.43870214, 0.56129783],\n",
       "       [0.43870214, 0.56129783],\n",
       "       [0.43870214, 0.56129783],\n",
       "       [0.43870214, 0.56129783],\n",
       "       [0.43870214, 0.56129783],\n",
       "       [0.43870214, 0.56129783],\n",
       "       [0.43870214, 0.56129783],\n",
       "       [0.43870214, 0.56129783],\n",
       "       [0.43870214, 0.56129783],\n",
       "       [0.43870214, 0.56129783],\n",
       "       [0.43870214, 0.56129783],\n",
       "       [0.43870214, 0.56129783],\n",
       "       [0.43870214, 0.56129783],\n",
       "       [0.43870214, 0.56129783],\n",
       "       [0.43870214, 0.56129783],\n",
       "       [0.43870214, 0.56129783],\n",
       "       [0.43870214, 0.56129783],\n",
       "       [0.43870214, 0.56129783]], dtype=float32)"
      ]
     },
     "execution_count": 22,
     "metadata": {},
     "output_type": "execute_result"
    }
   ],
   "source": [
    "model.predict(ins_train[0:30])"
   ]
  },
  {
   "cell_type": "code",
   "execution_count": 21,
   "metadata": {},
   "outputs": [
    {
     "data": {
      "text/plain": [
       "array([[1., 0.],\n",
       "       [1., 0.],\n",
       "       [1., 0.],\n",
       "       [1., 0.],\n",
       "       [1., 0.],\n",
       "       [1., 0.],\n",
       "       [1., 0.],\n",
       "       [1., 0.],\n",
       "       [1., 0.],\n",
       "       [1., 0.],\n",
       "       [1., 0.],\n",
       "       [1., 0.],\n",
       "       [1., 0.],\n",
       "       [1., 0.],\n",
       "       [1., 0.],\n",
       "       [1., 0.],\n",
       "       [1., 0.],\n",
       "       [1., 0.],\n",
       "       [1., 0.],\n",
       "       [1., 0.],\n",
       "       [1., 0.],\n",
       "       [1., 0.],\n",
       "       [1., 0.],\n",
       "       [1., 0.],\n",
       "       [1., 0.],\n",
       "       [1., 0.],\n",
       "       [1., 0.],\n",
       "       [1., 0.],\n",
       "       [1., 0.],\n",
       "       [1., 0.]])"
      ]
     },
     "execution_count": 21,
     "metadata": {},
     "output_type": "execute_result"
    }
   ],
   "source": [
    "outs_train[0:30]"
   ]
  },
  {
   "cell_type": "code",
   "execution_count": null,
   "metadata": {},
   "outputs": [],
   "source": []
  }
 ],
 "metadata": {
  "kernelspec": {
   "display_name": "Python 3",
   "language": "python",
   "name": "python3"
  },
  "language_info": {
   "codemirror_mode": {
    "name": "ipython",
    "version": 3
   },
   "file_extension": ".py",
   "mimetype": "text/x-python",
   "name": "python",
   "nbconvert_exporter": "python",
   "pygments_lexer": "ipython3",
   "version": "3.7.6"
  }
 },
 "nbformat": 4,
 "nbformat_minor": 4
}
